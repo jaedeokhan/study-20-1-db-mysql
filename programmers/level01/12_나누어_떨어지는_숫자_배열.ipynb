{
  "nbformat": 4,
  "nbformat_minor": 0,
  "metadata": {
    "colab": {
      "name": "12_나누어 떨어지는 숫자 배열.ipynb",
      "provenance": [],
      "collapsed_sections": [],
      "authorship_tag": "ABX9TyPnTh17LrMMvDlIWIxYX5Wx",
      "include_colab_link": true
    },
    "kernelspec": {
      "name": "python3",
      "display_name": "Python 3"
    },
    "language_info": {
      "name": "python"
    }
  },
  "cells": [
    {
      "cell_type": "markdown",
      "metadata": {
        "id": "view-in-github",
        "colab_type": "text"
      },
      "source": [
        "<a href=\"https://colab.research.google.com/github/jaedeokhan/study-20-1-db-mysql/blob/master/programmers/level01/12_%EB%82%98%EB%88%84%EC%96%B4_%EB%96%A8%EC%96%B4%EC%A7%80%EB%8A%94_%EC%88%AB%EC%9E%90_%EB%B0%B0%EC%97%B4.ipynb\" target=\"_parent\"><img src=\"https://colab.research.google.com/assets/colab-badge.svg\" alt=\"Open In Colab\"/></a>"
      ]
    },
    {
      "cell_type": "markdown",
      "metadata": {
        "id": "_WBQw8vZrOl1"
      },
      "source": [
        "### 문제 : 나누어 떨어지는 숫자 배열\n",
        "divisor로 나누어 떨어지는 element가 하나도 없다면 배열에 -1을 담아 반환하세요."
      ]
    },
    {
      "cell_type": "code",
      "metadata": {
        "colab": {
          "base_uri": "https://localhost:8080/"
        },
        "id": "h469RyjXrcn8",
        "outputId": "a5592d7b-ba38-479d-c9a3-e04676cac7bd"
      },
      "source": [
        "### 입력값\n",
        "arr = [[5, 9, 7, 10], [2, 36, 1, 3], [3,2,6]]\n",
        "divisor = [5, 1, 10]\n",
        "###\n",
        "\n",
        "### 문제\n",
        "def solution(arr, divisor):\n",
        "\n",
        "    answer = []\n",
        "\n",
        "    for i in arr:\n",
        "        if i % divisor == 0:\n",
        "            answer.append(i)\n",
        "\n",
        "    if len(answer) == 0:\n",
        "        return [-1]\n",
        "\n",
        "    return sorted(answer)\n",
        "        \n",
        "\n",
        "        \n",
        "### 출력\n",
        "for i in range(len(arr)):\n",
        "   print(\"================================\")\n",
        "   print(f'Start : {i+1}')\n",
        "   answer = solution(arr[i], divisor[i])\n",
        "   print(answer)\n",
        "   print(\"================================\")"
      ],
      "execution_count": 7,
      "outputs": [
        {
          "output_type": "stream",
          "text": [
            "================================\n",
            "Start : 1\n",
            "[5, 10]\n",
            "================================\n",
            "================================\n",
            "Start : 2\n",
            "[1, 2, 3, 36]\n",
            "================================\n",
            "================================\n",
            "Start : 3\n",
            "[-1]\n",
            "================================\n"
          ],
          "name": "stdout"
        }
      ]
    },
    {
      "cell_type": "code",
      "metadata": {
        "colab": {
          "base_uri": "https://localhost:8080/"
        },
        "id": "eNi1ZJqGsk0n",
        "outputId": "62c2327c-2ad6-4560-e7a7-bf26b523ec2b"
      },
      "source": [
        "### 입력값\n",
        "arr = [[5, 9, 7, 10], [2, 36, 1, 3], [3,2,6]]\n",
        "divisor = [5, 1, 10]\n",
        "###\n",
        "\n",
        "### 문제\n",
        "def solution(arr, divisor):\n",
        "\n",
        "    return [i for i in arr if i % divisor == 0] or [-1]\n",
        "        \n",
        "\n",
        "        \n",
        "### 출력\n",
        "for i in range(len(arr)):\n",
        "   print(\"================================\")\n",
        "   print(f'Start : {i+1}')\n",
        "   answer = solution(arr[i], divisor[i])\n",
        "   print(answer)\n",
        "   print(\"================================\")"
      ],
      "execution_count": 9,
      "outputs": [
        {
          "output_type": "stream",
          "text": [
            "================================\n",
            "Start : 1\n",
            "[5, 10]\n",
            "================================\n",
            "================================\n",
            "Start : 2\n",
            "[2, 36, 1, 3]\n",
            "================================\n",
            "================================\n",
            "Start : 3\n",
            "[-1]\n",
            "================================\n"
          ],
          "name": "stdout"
        }
      ]
    }
  ]
}